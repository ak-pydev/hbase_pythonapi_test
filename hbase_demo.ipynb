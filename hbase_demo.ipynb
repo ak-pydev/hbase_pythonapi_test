{
 "cells": [
  {
   "cell_type": "code",
   "execution_count": 1,
   "id": "ed06417a",
   "metadata": {},
   "outputs": [
    {
     "name": "stdout",
     "output_type": "stream",
     "text": [
      "Requirement already satisfied: happybase in /Library/Frameworks/Python.framework/Versions/3.11/lib/python3.11/site-packages (1.2.0)\n",
      "Requirement already satisfied: six in /Library/Frameworks/Python.framework/Versions/3.11/lib/python3.11/site-packages (from happybase) (1.17.0)\n",
      "Requirement already satisfied: thriftpy2>=0.4 in /Library/Frameworks/Python.framework/Versions/3.11/lib/python3.11/site-packages (from happybase) (0.5.3)\n",
      "Requirement already satisfied: ply<4.0,>=3.4 in /Library/Frameworks/Python.framework/Versions/3.11/lib/python3.11/site-packages (from thriftpy2>=0.4->happybase) (3.11)\n",
      "Note: you may need to restart the kernel to use updated packages.\n",
      "Requirement already satisfied: pandas in /Library/Frameworks/Python.framework/Versions/3.11/lib/python3.11/site-packages (2.2.3)\n",
      "Requirement already satisfied: numpy>=1.23.2 in /Library/Frameworks/Python.framework/Versions/3.11/lib/python3.11/site-packages (from pandas) (1.26.4)\n",
      "Requirement already satisfied: python-dateutil>=2.8.2 in /Library/Frameworks/Python.framework/Versions/3.11/lib/python3.11/site-packages (from pandas) (2.9.0.post0)\n",
      "Requirement already satisfied: pytz>=2020.1 in /Library/Frameworks/Python.framework/Versions/3.11/lib/python3.11/site-packages (from pandas) (2025.1)\n",
      "Requirement already satisfied: tzdata>=2022.7 in /Library/Frameworks/Python.framework/Versions/3.11/lib/python3.11/site-packages (from pandas) (2025.1)\n",
      "Requirement already satisfied: six>=1.5 in /Library/Frameworks/Python.framework/Versions/3.11/lib/python3.11/site-packages (from python-dateutil>=2.8.2->pandas) (1.17.0)\n",
      "Note: you may need to restart the kernel to use updated packages.\n"
     ]
    }
   ],
   "source": [
    "%pip install happybase\n",
    "%pip install pandas\n",
    "import happybase\n",
    "import pandas as pd"
   ]
  },
  {
   "cell_type": "code",
   "execution_count": 2,
   "id": "42fe973c",
   "metadata": {},
   "outputs": [
    {
     "name": "stdout",
     "output_type": "stream",
     "text": [
      "[b'courses']\n",
      "b'CSE101' {b'info:credits': b'4', b'info:name': b'Intro to CS', b'students:1': b'Aarav', b'students:3': b'Bibek'}\n",
      "b'MAT201' {b'info:credits': b'4', b'info:name': b'Calculus II', b'students:1': b'Sujal', b'students:2': b'Shristi'}\n",
      "b'PHY150' {b'info:credits': b'3', b'info:name': b'General Physics', b'students:1': b'Aayush', b'students:2': b'Nisha'}\n",
      "b'STA210' {b'info:credits': b'3', b'info:name': b'Applied Statistics I', b'students:1': b'Kritika', b'students:2': b'Sagar', b'students:3': b'Anish'}\n"
     ]
    }
   ],
   "source": [
    "import happybase\n",
    "c = happybase.Connection('localhost', 9090)\n",
    "c.open()\n",
    "print(c.tables())  # should show [b'courses']\n",
    "t = c.table(b'courses')\n",
    "for key, data in t.scan():\n",
    "    print(key, data)\n",
    "\n",
    "# result displayed are createed using HBase shell commands"
   ]
  },
  {
   "cell_type": "code",
   "execution_count": 3,
   "id": "e135e6fe",
   "metadata": {},
   "outputs": [],
   "source": [
    "def put_course(t, course_id, name, credits, students):\n",
    "    d = {b\"info:name\": name.encode(), b\"info:credits\": str(credits).encode()}\n",
    "    for i, s in enumerate(students, 1):\n",
    "        d[f\"students:{i}\".encode()] = s.encode()\n",
    "    t.put(course_id.encode(), d)"
   ]
  },
  {
   "cell_type": "code",
   "execution_count": 4,
   "id": "9b00a81a",
   "metadata": {},
   "outputs": [],
   "source": [
    "def print_all(t):\n",
    "    for rk, cols in t.scan():\n",
    "        name = cols.get(b\"info:name\", b\"\").decode()\n",
    "        credits = cols.get(b\"info:credits\", b\"\").decode()\n",
    "        students = sorted([(k.decode(), v.decode()) for k, v in cols.items() if k.startswith(b\"students:\")], key=lambda kv: int(kv[0].split(\":\")[1]))\n",
    "        print(rk.decode(), \"|\", name, \"| credits:\", credits, \"| students:\", \", \".join(s for _, s in students))\n"
   ]
  },
  {
   "cell_type": "code",
   "execution_count": 5,
   "id": "0453e931",
   "metadata": {},
   "outputs": [],
   "source": [
    "def to_df(t):\n",
    "    rec = []\n",
    "    for rk, cols in t.scan():\n",
    "        course = rk.decode()\n",
    "        name = cols.get(b\"info:name\", b\"\").decode()\n",
    "        cr = cols.get(b\"info:credits\", b\"0\").decode()\n",
    "        try: credits = int(cr)\n",
    "        except: credits = None\n",
    "        students = [v.decode() for k, v in cols.items() if k.startswith(b\"students:\")]\n",
    "        rec.append({\"course_id\": course, \"name\": name, \"credits\": credits, \"num_students\": len(students), \"students\": sorted(students)})\n",
    "    rec.sort(key=lambda r: r[\"course_id\"])\n",
    "    return pd.DataFrame(rec, columns=[\"course_id\",\"name\",\"credits\",\"num_students\",\"students\"])"
   ]
  },
  {
   "cell_type": "code",
   "execution_count": 6,
   "id": "e5d16697",
   "metadata": {},
   "outputs": [],
   "source": [
    "c = happybase.Connection(host=\"localhost\", port=9090, autoconnect=False); c.open()\n",
    "if b\"courses\" not in set(c.tables()):\n",
    "    c.create_table('courses', {'info': dict(max_versions=1), 'students': dict(max_versions=1)})\n",
    "t = c.table(b\"courses\")\n",
    "\n"
   ]
  },
  {
   "cell_type": "code",
   "execution_count": 7,
   "id": "a825939a",
   "metadata": {},
   "outputs": [],
   "source": [
    "put_course(t, \"STA210\", \"Statistics I\", 3, [\"Kritika\", \"Sagar\", \"Anish\"])\n",
    "put_course(t, \"ENG101\", \"Academic Writing\", 3, [\"Priyanshi\", \"Rupesh\", \"Neha\"])"
   ]
  },
  {
   "cell_type": "code",
   "execution_count": 8,
   "id": "791813bd",
   "metadata": {},
   "outputs": [
    {
     "name": "stdout",
     "output_type": "stream",
     "text": [
      "CSE101 | Intro to CS | credits: 4 | students: Aarav, Bibek\n",
      "ENG101 | Academic Writing | credits: 3 | students: Priyanshi, Rupesh, Neha\n",
      "MAT201 | Calculus II | credits: 4 | students: Sujal, Shristi\n",
      "PHY150 | General Physics | credits: 3 | students: Aayush, Nisha\n",
      "STA210 | Statistics I | credits: 3 | students: Kritika, Sagar, Anish\n"
     ]
    }
   ],
   "source": [
    "print_all(t)"
   ]
  },
  {
   "cell_type": "code",
   "execution_count": 9,
   "id": "bf832ee1",
   "metadata": {},
   "outputs": [],
   "source": [
    "t.put(b\"STA210\", {b\"info:name\": b\"Applied Statistics I\"})\n",
    "t.delete(b\"ENG101\")"
   ]
  },
  {
   "cell_type": "code",
   "execution_count": 10,
   "id": "e016517f",
   "metadata": {},
   "outputs": [
    {
     "name": "stdout",
     "output_type": "stream",
     "text": [
      "b'CSE101' {b'info:credits': b'4', b'info:name': b'Intro to CS', b'students:1': b'Aarav', b'students:3': b'Bibek'}\n",
      "b'MAT201' {b'info:credits': b'4', b'info:name': b'Calculus II', b'students:1': b'Sujal', b'students:2': b'Shristi'}\n",
      "b'PHY150' {b'info:credits': b'3', b'info:name': b'General Physics', b'students:1': b'Aayush', b'students:2': b'Nisha'}\n",
      "b'STA210' {b'info:credits': b'3', b'info:name': b'Applied Statistics I', b'students:1': b'Kritika', b'students:2': b'Sagar', b'students:3': b'Anish'}\n"
     ]
    }
   ],
   "source": [
    "for key, data in t.scan():\n",
    "    print(key, data)"
   ]
  },
  {
   "cell_type": "code",
   "execution_count": 11,
   "id": "861d6938",
   "metadata": {},
   "outputs": [
    {
     "data": {
      "application/vnd.microsoft.datawrangler.viewer.v0+json": {
       "columns": [
        {
         "name": "index",
         "rawType": "int64",
         "type": "integer"
        },
        {
         "name": "course_id",
         "rawType": "object",
         "type": "string"
        },
        {
         "name": "name",
         "rawType": "object",
         "type": "string"
        },
        {
         "name": "credits",
         "rawType": "int64",
         "type": "integer"
        },
        {
         "name": "num_students",
         "rawType": "int64",
         "type": "integer"
        },
        {
         "name": "students",
         "rawType": "object",
         "type": "unknown"
        }
       ],
       "ref": "85b56383-229e-4cb3-8c6b-69b75f9e451e",
       "rows": [
        [
         "0",
         "CSE101",
         "Intro to CS",
         "4",
         "2",
         "['Aarav', 'Bibek']"
        ],
        [
         "1",
         "MAT201",
         "Calculus II",
         "4",
         "2",
         "['Shristi', 'Sujal']"
        ],
        [
         "2",
         "PHY150",
         "General Physics",
         "3",
         "2",
         "['Aayush', 'Nisha']"
        ],
        [
         "3",
         "STA210",
         "Applied Statistics I",
         "3",
         "3",
         "['Anish', 'Kritika', 'Sagar']"
        ]
       ],
       "shape": {
        "columns": 5,
        "rows": 4
       }
      },
      "text/html": [
       "<div>\n",
       "<style scoped>\n",
       "    .dataframe tbody tr th:only-of-type {\n",
       "        vertical-align: middle;\n",
       "    }\n",
       "\n",
       "    .dataframe tbody tr th {\n",
       "        vertical-align: top;\n",
       "    }\n",
       "\n",
       "    .dataframe thead th {\n",
       "        text-align: right;\n",
       "    }\n",
       "</style>\n",
       "<table border=\"1\" class=\"dataframe\">\n",
       "  <thead>\n",
       "    <tr style=\"text-align: right;\">\n",
       "      <th></th>\n",
       "      <th>course_id</th>\n",
       "      <th>name</th>\n",
       "      <th>credits</th>\n",
       "      <th>num_students</th>\n",
       "      <th>students</th>\n",
       "    </tr>\n",
       "  </thead>\n",
       "  <tbody>\n",
       "    <tr>\n",
       "      <th>0</th>\n",
       "      <td>CSE101</td>\n",
       "      <td>Intro to CS</td>\n",
       "      <td>4</td>\n",
       "      <td>2</td>\n",
       "      <td>[Aarav, Bibek]</td>\n",
       "    </tr>\n",
       "    <tr>\n",
       "      <th>1</th>\n",
       "      <td>MAT201</td>\n",
       "      <td>Calculus II</td>\n",
       "      <td>4</td>\n",
       "      <td>2</td>\n",
       "      <td>[Shristi, Sujal]</td>\n",
       "    </tr>\n",
       "    <tr>\n",
       "      <th>2</th>\n",
       "      <td>PHY150</td>\n",
       "      <td>General Physics</td>\n",
       "      <td>3</td>\n",
       "      <td>2</td>\n",
       "      <td>[Aayush, Nisha]</td>\n",
       "    </tr>\n",
       "    <tr>\n",
       "      <th>3</th>\n",
       "      <td>STA210</td>\n",
       "      <td>Applied Statistics I</td>\n",
       "      <td>3</td>\n",
       "      <td>3</td>\n",
       "      <td>[Anish, Kritika, Sagar]</td>\n",
       "    </tr>\n",
       "  </tbody>\n",
       "</table>\n",
       "</div>"
      ],
      "text/plain": [
       "  course_id                  name  credits  num_students  \\\n",
       "0    CSE101           Intro to CS        4             2   \n",
       "1    MAT201           Calculus II        4             2   \n",
       "2    PHY150       General Physics        3             2   \n",
       "3    STA210  Applied Statistics I        3             3   \n",
       "\n",
       "                  students  \n",
       "0           [Aarav, Bibek]  \n",
       "1         [Shristi, Sujal]  \n",
       "2          [Aayush, Nisha]  \n",
       "3  [Anish, Kritika, Sagar]  "
      ]
     },
     "execution_count": 11,
     "metadata": {},
     "output_type": "execute_result"
    }
   ],
   "source": [
    "df = to_df(t)\n",
    "df"
   ]
  },
  {
   "cell_type": "code",
   "execution_count": 12,
   "id": "26f07c8e",
   "metadata": {},
   "outputs": [],
   "source": [
    "def get_courses_for_student(table, student_name: str):\n",
    "    courses = []\n",
    "    for rk, cols in table.scan():\n",
    "        for k, v in cols.items():\n",
    "            if k.startswith(b\"students:\") and v.decode() == student_name:\n",
    "                courses.append(rk.decode())\n",
    "                break\n",
    "    return courses"
   ]
  },
  {
   "cell_type": "code",
   "execution_count": 13,
   "id": "1d5302b2",
   "metadata": {},
   "outputs": [],
   "source": [
    "def average_students_per_course(table):\n",
    "    total_students, total_courses = 0, 0\n",
    "    for rk, cols in table.scan():\n",
    "        student_count = sum(1 for k in cols if k.startswith(b\"students:\"))\n",
    "        total_students += student_count\n",
    "        total_courses += 1\n",
    "    return total_students / total_courses if total_courses > 0 else 0.0"
   ]
  },
  {
   "cell_type": "code",
   "execution_count": 14,
   "id": "6c6cd721",
   "metadata": {},
   "outputs": [
    {
     "name": "stdout",
     "output_type": "stream",
     "text": [
      "Courses for Aarav: ['CSE101']\n",
      "Average students per course: 2.25\n"
     ]
    }
   ],
   "source": [
    "c = happybase.Connection('localhost', 9090); c.open()\n",
    "t = c.table(b\"courses\")\n",
    "\n",
    "print(\"Courses for Aarav:\", get_courses_for_student(t, \"Aarav\"))\n",
    "print(\"Average students per course:\", average_students_per_course(t))\n"
   ]
  }
 ],
 "metadata": {
  "kernelspec": {
   "display_name": "Python 3",
   "language": "python",
   "name": "python3"
  },
  "language_info": {
   "codemirror_mode": {
    "name": "ipython",
    "version": 3
   },
   "file_extension": ".py",
   "mimetype": "text/x-python",
   "name": "python",
   "nbconvert_exporter": "python",
   "pygments_lexer": "ipython3",
   "version": "3.11.9"
  }
 },
 "nbformat": 4,
 "nbformat_minor": 5
}
